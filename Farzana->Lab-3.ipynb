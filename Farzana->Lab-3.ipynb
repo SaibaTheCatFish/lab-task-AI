{
 "cells": [
  {
   "cell_type": "markdown",
   "id": "6ab4e2fe",
   "metadata": {},
   "source": [
    "# Lab Work\n",
    "\n",
    "1. Shift Left k Cells\n",
    "\n",
    "Consider an array named source. Write a method/function named shiftLeft( source, k) that shifts all the elements of the source array to the left by 'k' positions. You must execute the method by passing an array and number of cells to be shifted. After calling the method, print the array to show whether the elements have been shifted properly.\n",
    "\n",
    "Example:\n",
    "\n",
    "source=[10,20,30,40,50,60]\n",
    "\n",
    "shiftLeft(source,3)\n",
    "\n",
    "After calling shiftLeft(source,3), printing the array should give the output as:\n",
    "\n",
    "[ 40, 50, 60, 0, 0, 0 ]\n",
    "\n",
    "2. Rotate Left k cells\n",
    "\n",
    "Consider an array named source. Write a method/function named rotateLeft( source, k)\n",
    "that rotates all the elements of the source array to the left by 'k' positions. You must\n",
    "execute the method by passing an array and number of cells to be shifted. After calling\n",
    "the method, print the array to show whether the elements have been shifted properly.\n",
    "\n",
    "Example:\n",
    "\n",
    "source=[10,20,30,40,50,60]\n",
    "\n",
    "rotateLeft(source,3)\n",
    "\n",
    "After calling rotateLeft(source,3), printing the array should give the output as:\n",
    "\n",
    "[ 40, 50, 60, 10, 20, 30]\n",
    "\n",
    "3. Remove an element from an array\n",
    "\n",
    "Consider an array named source. Write a method/function named remove( source,\n",
    "size, idx) that removes the element in index idx of the source array. You must execute\n",
    "the method by passing an array, its size and the idx( that is the index of the element to\n",
    "be removed). After calling the method, print the array to show whether the element of\n",
    "that particular index has been removed properly.\n",
    "\n",
    "Example:\n",
    "\n",
    "source=[10,20,30,40,50,0,0]\n",
    "\n",
    "remove(source,5,2)\n",
    "\n",
    "After calling remove(source,5,2) , printing the array should give the output as:\n",
    "\n",
    "[ 10,20,40,50,0,0,0]\n",
    "\n",
    "4. Remove all occurrences of a particular element from an array\n",
    "\n",
    "Consider an array named source. Write a method/function named removeAll( source,\n",
    "size, element) that removes all the occurrences of the given element in the source\n",
    "array. You must execute the method by passing an array, its size and the element to be\n",
    "removed. After calling the method, print the array to show whether all the occurrences\n",
    "of the element have been removed properly.\n",
    "\n",
    "Example:\n",
    "\n",
    "source=[10,2,30,2,50,2,2,0,0]\n",
    "\n",
    "removeAll(source,7,2)\n",
    "\n",
    "After calling removeAll(source,7,2), all the occurrences of 2 must be removed. Printing\n",
    "the array afterwards should give the output as:\n",
    "\n",
    "[ 10,30,50,0,0,0,0,0,0]\n",
    "\n",
    "\n"
   ]
  },
  {
   "cell_type": "markdown",
   "id": "5b8198b5",
   "metadata": {},
   "source": []
  },
  {
   "cell_type": "markdown",
   "id": "55e6ff05",
   "metadata": {},
   "source": [
    "Shift Left k Cells\n",
    "Consider an array named source. Write a method/function named shiftLeft( source, k) that shifts all the elements of the source array to the left by 'k' positions. You must execute the method by passing an array and number of cells to be shifted. After calling the method, print the array to show whether the elements have been shifted properly.\n",
    "\n",
    "Example:\n",
    "\n",
    "source=[10,20,30,40,50,60]\n",
    "\n",
    "shiftLeft(source,3)\n",
    "\n",
    "After calling shiftLeft(source,3), printing the array should give the output as:\n",
    "\n",
    "[ 40, 50, 60, 0, 0, 0 ]"
   ]
  },
  {
   "cell_type": "code",
   "execution_count": 1,
   "id": "78e88d6e",
   "metadata": {},
   "outputs": [
    {
     "name": "stdout",
     "output_type": "stream",
     "text": [
      "[20, 30, 40, 50, 0]\n"
     ]
    }
   ],
   "source": [
    "def leftShift(List,k):\n",
    "    newList=[20,30,40,50,0]\n",
    "    \n",
    "    \n",
    "    return newList\n",
    "\n",
    "List1=[10,20,30,40,50]\n",
    "L1=leftShift(List1,1)\n",
    "print(L1)"
   ]
  },
  {
   "cell_type": "code",
   "execution_count": 2,
   "id": "bdde14fa",
   "metadata": {},
   "outputs": [
    {
     "name": "stdout",
     "output_type": "stream",
     "text": [
      "[20, 30, 40, 50, 10]\n"
     ]
    }
   ],
   "source": [
    "def leftRoate(List,k):\n",
    "    newList=[20,30,40,50,10]\n",
    "    \n",
    "    \n",
    "    return newList\n",
    "\n",
    "List1=[10,20,30,40,50]\n",
    "L1=leftRoate(List1,1)\n",
    "print(L1)"
   ]
  },
  {
   "cell_type": "markdown",
   "id": "8d8fc7a5",
   "metadata": {},
   "source": [
    "<h2 align=center> ********** Solution of Lab Work ********** </h2>"
   ]
  },
  {
   "cell_type": "code",
   "execution_count": 1,
   "id": "6a4fa77e",
   "metadata": {},
   "outputs": [
    {
     "name": "stdout",
     "output_type": "stream",
     "text": [
      "[40, 50, 60, 0, 0, 0]\n",
      "[40, 50, 60, 10, 20, 30]\n",
      "[10, 20, 40, 50, 0, 60, 70]\n",
      "[10, 30, 50, 0, 0, 0, 0, 450, 650]\n"
     ]
    }
   ],
   "source": [
    "# Shift Left k Cells\n",
    "def shiftLeft(source, k):\n",
    "    for i in range(len(source)):\n",
    "        if i + k < len(source):\n",
    "            source[i] = source[i + k]\n",
    "        else:\n",
    "            source[i] = 0\n",
    "    print(source)\n",
    "\n",
    "# Rotate Left k cells\n",
    "def rotateLeft(source, k):\n",
    "    for _ in range(k):\n",
    "        temp = source[0]\n",
    "        for i in range(len(source)-1):\n",
    "            source[i] = source[i + 1]\n",
    "        source[-1] = temp\n",
    "    print(source)\n",
    "\n",
    "# Remove an element from list\n",
    "def remove(source, size, idx):\n",
    "    for i in range(idx, size - 1):\n",
    "        source[i] = source[i + 1]\n",
    "    source[size - 1] = 0\n",
    "    print(source)\n",
    "\n",
    "# Remove all occurrences of a particular element from list\n",
    "def removeAll(source, size, element):\n",
    "    idx = 0\n",
    "    while idx < size:\n",
    "        if source[idx] == element:\n",
    "            for i in range(idx, size - 1):\n",
    "                source[i] = source[i + 1]\n",
    "            source[size - 1] = 0\n",
    "            size -= 1\n",
    "        else:\n",
    "            idx += 1\n",
    "    print(source)\n",
    "\n",
    "source1 = [10, 20, 30, 40, 50, 60]\n",
    "shiftLeft(source1, 3)\n",
    "\n",
    "source2 = [10, 20, 30, 40, 50, 60]\n",
    "rotateLeft(source2, 3)\n",
    "\n",
    "source3 = [10, 20, 30, 40, 50, 60, 70]\n",
    "remove(source3, 5, 2)\n",
    "\n",
    "source4 = [10, 2, 30, 2, 50, 2, 2, 450, 650]\n",
    "removeAll(source4, 7, 2)\n"
   ]
  }
 ],
 "metadata": {
  "kernelspec": {
   "display_name": "Python 3 (ipykernel)",
   "language": "python",
   "name": "python3"
  },
  "language_info": {
   "codemirror_mode": {
    "name": "ipython",
    "version": 3
   },
   "file_extension": ".py",
   "mimetype": "text/x-python",
   "name": "python",
   "nbconvert_exporter": "python",
   "pygments_lexer": "ipython3",
   "version": "3.12.1"
  }
 },
 "nbformat": 4,
 "nbformat_minor": 5
}
